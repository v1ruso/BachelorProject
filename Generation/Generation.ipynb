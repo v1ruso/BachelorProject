{
 "cells": [
  {
   "cell_type": "markdown",
   "metadata": {},
   "source": [
    "# Bachelor project notebook\n",
    "\n",
    "### Musical patterns for prediction\n",
    "Before continuing, make sure to download and install <a href=\"https://abjad.github.io/\">abjad</a>, <a href=\"http://lilypond.org\">LilyPond</a> (needed by abjad) and <a href=\"https://github.com/craffel/pretty-midi\">pretty_midi</a>, as well as the standard python librairies, such as numpy."
   ]
  },
  {
   "cell_type": "markdown",
   "metadata": {},
   "source": [
    "#### Generation for a single file\n",
    "We first need to import the files for the generation process. All three methods take a path to a midi (.mid) file, and produce a continuation in the same folder."
   ]
  },
  {
   "cell_type": "code",
   "execution_count": null,
   "metadata": {},
   "outputs": [],
   "source": [
    "from simple_first_order_mm import generate_prediction_with_simple_markov\n",
    "from string_based import generate_prediction_with_string_based\n",
    "from translation_based import generate_prediction_with_translation_based"
   ]
  },
  {
   "cell_type": "markdown",
   "metadata": {},
   "source": [
    "We also need to know where the output pdf files (the music scores) will be generated. A NOTE such as \"The Pärt demo requires abjad-ext-tonality\" can be ignored."
   ]
  },
  {
   "cell_type": "code",
   "execution_count": null,
   "metadata": {},
   "outputs": [],
   "source": [
    "import abjad\n",
    "print(abjad.AbjadConfiguration().abjad_output_directory)"
   ]
  },
  {
   "cell_type": "markdown",
   "metadata": {},
   "source": [
    "Then we'll set the path to the file that will be used in the next few cells. It corresponds to the path of a midi (.mid) file, for which a continuation has to be produced. "
   ]
  },
  {
   "cell_type": "code",
   "execution_count": null,
   "metadata": {},
   "outputs": [],
   "source": [
    "midi_filename = \"MIDI_files/random_example.mid\""
   ]
  },
  {
   "cell_type": "markdown",
   "metadata": {},
   "source": [
    "Let's generate a continuation with the simple Markov model algorithm. Warnings from pretty_midi or abjad can be ignored."
   ]
  },
  {
   "cell_type": "code",
   "execution_count": null,
   "metadata": {},
   "outputs": [],
   "source": [
    "generate_prediction_with_simple_markov(midi_filename)\n",
    "# Optionally, we can tweak some parameters for the generation, default is:\n",
    "# generate_prediction_with_simple_markov(midi_filename, notes_to_generate = 4, with_smoothing=False, probability_known_states=0.9)"
   ]
  },
  {
   "cell_type": "markdown",
   "metadata": {},
   "source": [
    "Now, try to generate with the string-based approach."
   ]
  },
  {
   "cell_type": "code",
   "execution_count": null,
   "metadata": {},
   "outputs": [],
   "source": [
    "generate_prediction_with_string_based(midi_filename)\n",
    "# Same options can be applied, default is:\n",
    "# generate_prediction_with_string_based(midi_filename, patterns_to_generate = 4, with_smoothing=False, probability_known_patterns=0.9)"
   ]
  },
  {
   "cell_type": "markdown",
   "metadata": {},
   "source": [
    "Finally, we can generate with the translation-based algorithm."
   ]
  },
  {
   "cell_type": "code",
   "execution_count": null,
   "metadata": {},
   "outputs": [],
   "source": [
    "generate_prediction_with_translation_based(midi_filename)\n",
    "# Default is:\n",
    "# generate_prediction_with_translation_based(midi_filename, patterns_to_generate = 4, with_smoothing=False, probability_known_patterns=0.9)"
   ]
  },
  {
   "cell_type": "markdown",
   "metadata": {},
   "source": [
    "#### Generation for datasets\n",
    "All of this was for individual files. However, for the evaluation, we need to do this procedure for a whole dataset. First import the needed functions."
   ]
  },
  {
   "cell_type": "code",
   "execution_count": null,
   "metadata": {},
   "outputs": [],
   "source": [
    "from simple_first_order_mm import generate_prediction_with_simple_markov_for_dataset\n",
    "from string_based import generate_prediction_with_string_based_for_dataset\n",
    "from translation_based import generate_prediction_with_translation_based_for_dataset"
   ]
  },
  {
   "cell_type": "markdown",
   "metadata": {},
   "source": [
    "The functions work with csv files, and produce both csv and midi files, so that the results can be heard by using <a href=\"https://musescore.org/en\">MuseScore</a>, for example. Please follow these instructions:\n",
    "1. Download either one of these three monophonic datasets (the larger the longer it will take): <a href=\"http://tomcollinsresearch.net/research/data/mirex/ppdd/ppdd-sep2018/PPDD-Sep2018_sym_mono_small.zip\">small</a>, <a href=\"http://tomcollinsresearch.net/research/data/mirex/ppdd/ppdd-sep2018/PPDD-Sep2018_sym_mono_medium.zip\">medium</a> or <a href=\"http://tomcollinsresearch.net/research/data/mirex/ppdd/ppdd-sep2018/PPDD-Sep2018_sym_mono_large.zip\">large</a>.\n",
    "2. Unzip it somewhere adequate, like in \"../Datasets\" (in the parent folder as this file is located).\n",
    "3. For all three methods to work, you will need to create multiple folders, at the same location as the \"prime_csv\" folder, in the downloaded dataset:\n",
    "    - For the simple first order Markov model: \"markov_without_prediction_midi\" and \"markov_without_prediction_csv\".\n",
    "    - For the string-based approach: \"markov_with_prediction_midi\" and \"markov_with_prediction_csv\".\n",
    "    - For the translation-based approach: \"markov_with_non_exact_prediction_midi\" and \"markov_with_non_exact_prediction_csv\".\n",
    "4. Set the variable name \"dataset_filepath\" below to the path you chose in 2."
   ]
  },
  {
   "cell_type": "code",
   "execution_count": null,
   "metadata": {},
   "outputs": [],
   "source": [
    "dataset_filepath = \"../Datasets/PPDD-Sep2018_sym_mono_small/\""
   ]
  },
  {
   "cell_type": "markdown",
   "metadata": {},
   "source": [
    "Once done, we can safely run the three functions below."
   ]
  },
  {
   "cell_type": "code",
   "execution_count": null,
   "metadata": {},
   "outputs": [],
   "source": [
    "generate_prediction_with_simple_markov_for_dataset(dataset_filepath)\n",
    "# Default is generate_prediction_with_simple_markov_for_dataset(dataset_filepath, notes_to_generate = 30,with_smoothing=True,probability_known_states=0.9)"
   ]
  },
  {
   "cell_type": "code",
   "execution_count": null,
   "metadata": {},
   "outputs": [],
   "source": [
    "generate_prediction_with_string_based_for_dataset(dataset_filepath)\n",
    "# Default is generate_prediction_with_string_based_for_dataset(dataset_filepath, patterns_to_generate = 20,with_smoothing=True,probability_known_states=0.9)"
   ]
  },
  {
   "cell_type": "code",
   "execution_count": null,
   "metadata": {},
   "outputs": [],
   "source": [
    "generate_prediction_with_translation_based_for_dataset(dataset_filepath)\n",
    "# Default is generate_prediction_with_translation_based_for_dataset(dataset_filepath, patterns_to_generate = 20,with_smoothing=True,probability_known_states=0.9)"
   ]
  },
  {
   "cell_type": "markdown",
   "metadata": {},
   "source": [
    "Note that each method is much slower than the previous one."
   ]
  },
  {
   "cell_type": "markdown",
   "metadata": {},
   "source": [
    "### Evaluation\n",
    "With the three outputs generated, we can now run the evaluation code. Please download it from <a href=\"https://github.com/BeritJanssen/PatternsForPrediction/tree/mirex2019\">here</a> and follow these instructions:\n",
    "\n",
    "1. Copy and paste the content of [config_corrected.py](config_corrected.py) into config.py (in the newly downloaded evaluation folder), and modify \"OUTPUT_FOLDER\", \"DATASET_PATH\" and \"FILENAME_FRAGMENT\".\n",
    "2. Edit cs.py to [cs_corrected.py](cs_corrected.py) (copy and paste the code).\n",
    "3. Execute the following cell (you might need to correct the path)."
   ]
  },
  {
   "cell_type": "code",
   "execution_count": null,
   "metadata": {},
   "outputs": [],
   "source": [
    "%run ../Evaluation/evaluate_prediction.py"
   ]
  }
 ],
 "metadata": {
  "kernelspec": {
   "display_name": "Python 3",
   "language": "python",
   "name": "python3"
  },
  "language_info": {
   "codemirror_mode": {
    "name": "ipython",
    "version": 3
   },
   "file_extension": ".py",
   "mimetype": "text/x-python",
   "name": "python",
   "nbconvert_exporter": "python",
   "pygments_lexer": "ipython3",
   "version": "3.6.12"
  }
 },
 "nbformat": 4,
 "nbformat_minor": 4
}
